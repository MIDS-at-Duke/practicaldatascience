{
 "cells": [
  {
   "cell_type": "markdown",
   "metadata": {},
   "source": [
    "# MIDS Summer 2020 Python Review / Bootcamp"
   ]
  },
  {
   "cell_type": "markdown",
   "metadata": {},
   "source": [
    "Instructor: [Nick Eubank](https://www.nickeubank.com/), MIDS Assistant Research Professor\n",
    "\n",
    "Welcome to the MIDS summer 2020 Python module! This collection of resources is designed to ensure that everyone has a common basic familiarity with Python before the start of courses this fall. \n",
    "\n",
    "We know many of you still have outside committments, so we're providing you lots of time to complete this module: you have until June 21st to complete all assigned modules and pass the Python Module Exam. Also, **please note that you MUST enroll in DataCamp within the next two weeks.** If you do not, you will have to pay for your own DataCamp account. Directions for enrolling should have been in the email you received about Python Review, and are repeated below. "
   ]
  },
  {
   "cell_type": "markdown",
   "metadata": {},
   "source": [
    "## Courses to Complete\n",
    "\n",
    "For this module, we'll be using DataCamp -- an excellent tool for developing familiarity with various programming tools. Rather than just *reading* about these tools, DataCamp involves lots of active learning opportunities. Moreover, DataCamp offers free accounts for academic groups, and so once you enroll you will not only have access to the modules we require, but also the entire DataCamp catalogue if you wish to explore.\n",
    "\n",
    "Once you create an account, you should see four Python assignments waiting: \n",
    "\n",
    "- *Introduction to Python* course\n",
    "- *Intermediate Python* course\n",
    "- The *Data Ingestion and Inspection* chapter from *Pandas Foundations*\n",
    "- The *Exploratory Data Analysis* chapter from *Pandas Foundations*"
   ]
  },
  {
   "cell_type": "markdown",
   "metadata": {},
   "source": [
    "## What if I already know Python?\n",
    "\n",
    "Even if you've worked with Python before, there may still be material in these courses that will be new to you, especially if the primary way you learned Python was through a CS class. That's because the way Python is used in Data Science is different from how it's used in many other domains. In particular, this Python Module includes lessons on two packages that are absolutely critical to data science (and your MIDS courses): a library called `numpy` and a library called `pandas`.\n",
    "\n",
    "If you've worked with Python a lot in the past (e.g. you can write loops and functions, and know about variable types) but not numpy and pandas, feel free to skip over the material in the courses that's familiar and just do the portions on the libraries you've never seen. You'll find numpy is used from Introduction to Python Section 4 forward, and pandas is used starting with Intermediate Python for Data Science, Section 2.\n",
    "\n",
    "If you think you're prepared to completely skip this section, please take the \"Module Exam\" discussed below. If you score a 86% or above, you may skip the DataCamp content. Otherwise, please complete the DataCamp content in this course."
   ]
  },
  {
   "cell_type": "markdown",
   "metadata": {},
   "source": [
    "## Additional Resources\n",
    "\n",
    "If you're an eager beaver and want some supplementary materials on Python, here are a couple great resources:\n",
    "\n",
    "- [Intro to Python for Data Science](https://github.com/kylebradbury/python), a full set of Python tutorials by your future Machine Learning instructor, Kyle Bradbury.\n",
    "- [Python for Data Analysis](https://www.amazon.com/Python-Data-Analysis-Wrangling-IPython-dp-1491957662/dp/1491957662/), a great book by one of the chief architects of the key data science libraries for Python. This book is light on training in python itself, but great for numpy and pandas. It will be strongly recommended in one of MIDS elective courses. *Make sure to get the Second Edition!* pandas has changed a lot since the first edition. \n",
    "- [Pandas for Everyone](https://www.amazon.com/gp/product/0134546938/ref=ppx_yo_dt_b_search_asin_title?ie=UTF8&psc=1): A new, excellent book about numpy and pandas. "
   ]
  },
  {
   "cell_type": "markdown",
   "metadata": {},
   "source": [
    "## Getting Help\n",
    "\n",
    "There are two ways to get help as you work through this module. \n",
    "\n",
    "- First, \n",
    "- Second, I'll be holding office hours every Friday from 9am - 10am EST (sorry Californians -- this time is the best compromise to accomodate people in China and India). If you need to talk but can't make this time, please send me an email at [nick@nickeubank.com](mailto:nick@nickeubank.com) and we'll figure something out. "
   ]
  },
  {
   "cell_type": "markdown",
   "metadata": {},
   "source": [
    "## Enrolling in DataCamp\n",
    "\n",
    "To get a FREE DataCamp account for the summer, follow [this link](https://www.datacamp.com/groups/shared_links/52f8c4b1220a1925828f7d027e949a203a4a4e01227060416df64c9cabeb536d) and create a DataCamp account **using a gmail email address.**\n",
    "\n",
    "I recognize it's weird we're asking you to use a gmail address, but DataCamp requires us to specify a single email domain for all class signups, and because of Covid not all students have been able to get all the paperwork they need to finalize their matriculation to Duke, and as a result they can't get Duke email addresses yet. So we've chosen gmail since even if you don't have a gmail account already, you can create one for free!"
   ]
  }
 ],
 "metadata": {
  "kernelspec": {
   "display_name": "Python 3",
   "language": "python",
   "name": "python3"
  },
  "language_info": {
   "codemirror_mode": {
    "name": "ipython",
    "version": 3
   },
   "file_extension": ".py",
   "mimetype": "text/x-python",
   "name": "python",
   "nbconvert_exporter": "python",
   "pygments_lexer": "ipython3",
   "version": "3.7.3"
  }
 },
 "nbformat": 4,
 "nbformat_minor": 4
}
