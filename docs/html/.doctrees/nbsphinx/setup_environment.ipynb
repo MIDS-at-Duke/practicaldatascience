{
 "cells": [
  {
   "cell_type": "markdown",
   "metadata": {},
   "source": [
    "# Installing Python, Conda, and VSCode"
   ]
  },
  {
   "cell_type": "markdown",
   "metadata": {},
   "source": [
    "In this tutorial, we'll go over how to set up all the tools you need to not only work effectively in Python, but also get going with the Jupyter ecosystem, which supports not only Python, but also R, Julia, and more. "
   ]
  },
  {
   "cell_type": "markdown",
   "metadata": {},
   "source": [
    "## Installing VSCode\n",
    "\n",
    "Before we install miniconda, I would first suggest everyone install a good text editor if you don't already have one.\n",
    "\n",
    "(Note: I used to recommend Atom, which I loved, but since github (which developed Atom) was bought by Microsoft, it \n",
    "looks like a lot of the development energy has moved over to VSCode, so I think that's a better place to go now)."
   ]
  },
  {
   "cell_type": "markdown",
   "metadata": {},
   "source": [
    "### Installing on Macs\n",
    "\n",
    "Download and run [installer here](https://code.visualstudio.com/download). \n",
    "\n",
    "Then to make VS Code accessible from the command line (so you can type things like `code FILENAME` and have the file you named open in VS Code), make sure that after you install VSCode, follow the directions [here (for macs)](https://code.visualstudio.com/docs/setup/mac#_launching-from-the-command-line). \n",
    "\n",
    "### Installing on Windows\n",
    "\n",
    "Download [installer here](https://code.visualstudio.com/download), and make sure that during install you select the \"Add to PATH\" option."
   ]
  },
  {
   "cell_type": "markdown",
   "metadata": {},
   "source": [
    "## Installing miniconda\n",
    "\n",
    "The first thing we need to do is download the `miniconda` Python package manager. Note this is distinct from the *Anaconda distribution*. The Anaconda distribution comes with a ton of pre-installed packages. That's nice initially, but tends to lead to problems since having all those packages introduces the possibility of package conflicts. So we'll use `miniconda`, which *just* installs Python and the package manager. Then you can add only what you need!\n",
    "\n",
    "To install Python, go to the [miniconda Download page](https://docs.conda.io/en/latest/miniconda.html), download and install the most recent Python 3.x version of miniconda (as of Oct 2020, this was Python 3.8). (On a Mac, the `Pkg` installer is easier to use). \n",
    "\n",
    "### Installation Note for Windows Users\n",
    "\n",
    "When asked whether you want to install for \"Just Me\" or \"All Users\", pick \"Just Me\".\n",
    "\n",
    "One of the checkboxes during the Windows installation is \"do you want to add Anaconda to your PATH?\". Select Yes. I know they discourage it, but it allows miniconda to work well with Cmder. \n",
    "\n",
    "### If there's a Python 3.8, why is there also a Python 2.7 available?\n",
    "\n",
    "In 2000, Python 3 was first released. Python 3 fixed a lot of things people disliked about Python, but in the process it made some changes that meant code written in Python 2 would not work any more. To ease the transition to Python 3, both Python 2 and Python 3 have been supported for several years so people could keep running their Python 2 projects while they finished the transition. Almost everything is now in Python 3, so since you don’t have any old code to worry about, you want Python 3."
   ]
  },
  {
   "cell_type": "markdown",
   "metadata": {},
   "source": [
    "## Using miniconda with Oh-My-Zsh (Macs)\n",
    "\n",
    "If you installed Oh-My-Zsh during the command line exercises ([as suggested here](command_line_part1.ipynb), then Anaconda won't work right away. The problem is that when you install Anaconda, it adds some code to the `.bash_profile` file in your user directory. The `.bash_profile` file contains code the is run every time you open a new `bash` command line session (as discussed at the end of [Advanced Command Line](command_line_part2.ipynb)), and the code Anaconda adds adds Anaconda to your `PATH` variable. \n",
    "\n",
    "But Oh-My-Zsh doesn't run the `.bash_profile` file when it opens; it runs the `.zshrc` file. So what we have to do is move the code Anaconda put in `.bash_profile` into `.zshrc`. You can do this as follows: \n",
    "\n",
    "1. Open `.bash_profile` and copy the block of text  that begin with `# >>> conda init >>>` and ends with `# <<< conda init <<<`.\n",
    "2. Then open `.zshrc`, scroll to the bottom of the file, and past the text you copied from `.bash_profile` into `.zshrc`.\n",
    "3. Save that file, close your current session of Oh-My-Zsh, open it again, and test to see if you were successful by typing `conda -h`. If a conda helpfile gets printed out, you're good!\n",
    "\n",
    "**Note:** If you copy text from the nano editor (rather than open your file with `atom`) and the nano editor window is narrow, the ends of lines will be truncated when you paste the output (and will end with dollar signs (`$`)).\n",
    "\n",
    "For example, if I highlight this text with my mouse and try to copy and paste it:\n",
    "\n",
    "![bash_truncated](images/bash_profile_truncated.png)\n",
    "\n",
    "I will get: \n",
    "\n",
    "```\n",
    "# added by Miniconda3 4.7.10 installer\n",
    "# >>> conda init >>>\n",
    "# !! Contents within this block are managed by 'conda init' !!\n",
    "__conda_setup=\"$(CONDA_REPORT_ERRORS=false '/Users/Nick/miniconda$\n",
    "if [ $? -eq 0 ]; then\n",
    "    \\eval \"$__conda_setup\"\n",
    "else\n",
    "    if [ -f \"/Users/Nick/miniconda3/etc/profile.d/conda.sh\" ]; th$\n",
    "        . \"/Users/Nick/miniconda3/etc/profile.d/conda.sh\"\n",
    "        CONDA_CHANGEPS1=false conda activate base\n",
    "    else\n",
    "        \\export PATH=\"/Users/Nick/miniconda3/bin:$PATH\"\n",
    "    fi\n",
    "fi\n",
    "unset __conda_setup\n",
    "# <<< conda init <<<\n",
    "```\n",
    "\n",
    "not \n",
    "\n",
    "```\n",
    "# added by Miniconda3 4.7.10 installer\n",
    "# >>> conda init >>>\n",
    "# !! Contents within this block are managed by 'conda init' !!\n",
    "__conda_setup=\"$(CONDA_REPORT_ERRORS=false '/Users/Nick/miniconda3/bin/conda' shell.bash hook 2> /dev/null)\"\n",
    "if [ $? -eq 0 ]; then\n",
    "    \\eval \"$__conda_setup\"\n",
    "else\n",
    "    if [ -f \"/Users/Nick/miniconda3/etc/profile.d/conda.sh\" ]; then\n",
    "        . \"/Users/Nick/miniconda3/etc/profile.d/conda.sh\"\n",
    "        CONDA_CHANGEPS1=false conda activate base\n",
    "    else\n",
    "        \\export PATH=\"/Users/Nick/miniconda3/bin:$PATH\"\n",
    "    fi\n",
    "fi\n",
    "unset __conda_setup\n",
    "# <<< conda init <<<\n",
    "```\n",
    "\n",
    "(See how several lines are truncated and end in dollar signs?)\n",
    "\n",
    "So if you're using nano to open these files and edit, make sure the window is wide enough!\n"
   ]
  },
  {
   "cell_type": "markdown",
   "metadata": {},
   "source": [
    "### Your conda works if...\n",
    "\n",
    "You can run `conda -h` from your command line and you see a helpfile print out like below instead of `conda: command not found`, you're good!\n",
    "\n",
    "```\n",
    "bash-3.2$ conda -h\n",
    "usage: conda [-h] [-V] command ...\n",
    "\n",
    "conda is a tool for managing and deploying applications, environments and packages.\n",
    "\n",
    "Options:\n",
    "\n",
    "positional arguments:\n",
    "  command\n",
    "    clean        Remove unused packages and caches.\n",
    "    config       Modify configuration values in .condarc. This is modeled\n",
    "                 after the git config command. Writes to the user .condarc\n",
    "                 file (/Users/Nick/.condarc) by default.\n",
    "    create       Create a new conda environment from a list of specified\n",
    "                 packages.\n",
    "    help         Displays a list of available conda commands and their help\n",
    "                 strings.\n",
    "    info         Display information about current conda install.\n",
    "    init         Initialize conda for shell interaction. [Experimental]\n",
    "    install      Installs a list of packages into a specified conda\n",
    "                 environment.\n",
    "    list         List linked packages in a conda environment.\n",
    "    package      Low-level conda package utility. (EXPERIMENTAL)\n",
    "    remove       Remove a list of packages from a specified conda environment.\n",
    "    uninstall    Alias for conda remove.\n",
    "    run          Run an executable in a conda environment. [Experimental]\n",
    "    search       Search for packages and display associated information. The\n",
    "                 input is a MatchSpec, a query language for conda packages.\n",
    "                 See examples below.\n",
    "    update       Updates conda packages to the latest compatible version.\n",
    "    upgrade      Alias for conda update.\n",
    "\n",
    "optional arguments:\n",
    "  -h, --help     Show this help message and exit.\n",
    "  -V, --version  Show the conda version number and exit.\n",
    "\n",
    "conda commands available from other packages:\n",
    "  env\n",
    "bash-3.2$ \n",
    "```"
   ]
  },
  {
   "cell_type": "markdown",
   "metadata": {},
   "source": [
    "## Change the Default Channel\n",
    "\n",
    "One of the main purposes of miniconda is to help you install and manage Python packages. When installing and updated packages, the Anaconda software actually has the ability to pull packages from any number of sources. As of mid-2020, there's one group that provides the best source for packages: `conda-forge`. So to make that your system's default, open the command line (after installing Anaconda -- if it was open while installing this won't work) and type the following two commands:\n",
    "\n",
    "```\n",
    "conda config --add channels conda-forge\n",
    "conda config --set channel_priority strict\n",
    "```"
   ]
  },
  {
   "cell_type": "markdown",
   "metadata": {},
   "source": [
    "## Setting Up Miniconda with Cmder\n"
   ]
  },
  {
   "cell_type": "markdown",
   "metadata": {},
   "source": [
    "First, open a `Cmder` window and open settings (click the three little three horizon bars in bottom right, then click Settings). Then:\n",
    "\n",
    "1. Make sure the default is set to bash::bash as Admin: \n",
    "\n",
    "![cmder_default_to_bash](images/cmder_default_to_bash.png)\n",
    "\n",
    "2. "
   ]
  }
 ],
 "metadata": {
  "kernelspec": {
   "display_name": "Python 3",
   "language": "python",
   "name": "python3"
  },
  "language_info": {
   "codemirror_mode": {
    "name": "ipython",
    "version": 3
   },
   "file_extension": ".py",
   "mimetype": "text/x-python",
   "name": "python",
   "nbconvert_exporter": "python",
   "pygments_lexer": "ipython3",
   "version": "3.7.8"
  }
 },
 "nbformat": 4,
 "nbformat_minor": 4
}
