{
 "cells": [
  {
   "cell_type": "markdown",
   "metadata": {},
   "source": [
    "# More Cloud Concepts and Vocabulary"
   ]
  },
  {
   "cell_type": "markdown",
   "metadata": {},
   "source": [
    "## Azure Active Directory\n",
    "\n",
    "OK, so what on earth *is* this \"Active Directory\" / \"Azure AD\" referenced everywhere?!\n",
    "\n",
    "You may have noticed in the preceding exercises that sometimes we got access to Azure resources by passing secret keys consisting of a long string of letters and numbers (which I had to load from files so you couldn't see them), and sometimes we ran a code that directed us to visit a webpage and login using our usual Azure logins. That's because Azure (and indeed all cloud platforms) current support a range of authentication methods, some very basic (those secret keys), and some much more sophisticated (the redirect to a web page). Here we'll provide a basic overview of why there are different options, and why you might prefer one of the other. \n",
    "\n",
    "### Keys and Secrets\n",
    "\n",
    "Keys and secrets are long strings of numbers and symbols that are used as passwords for various services. For example, we accessed our storage by using a very long secret key. \n",
    "\n",
    "Keys are often really easy to use initially, but there are a number of problems with secrets and keys to be aware of:\n",
    "\n",
    "- **Not personalized:** Suppose that somehow your key gets out -- you inadvertently put it in a public github repo file, or there's some concern that a resource you created wasn't secured. Well, if you now have to cancel that key, it will immediately break *everything* currently using that key! So a small leak results in you having to reset all your resources and networks.  \n",
    "- **Hard to cycle:** Similarly, its good security practice to cycle your keys, meaning that from time to time you change them (just like your password!). But with a hard-coded key, that causes problems because you may have many resources all using a specific key, and if you try to change it you'd have to go to all those services and change the key to keep them working. \n",
    "- **No scope:** With a key, people usually either have the key or they don't, making access binary. You usually can't create a key that gives people read-only access, and a key that gives people edit access, etc. \n",
    "\n",
    "### Azure Active Directory (Azure AD or ADD)\n",
    "\n",
    "The alternative to secrets and keys is to use a third-party service to manage authentication. You may not realize it, but that's what you're doing any time you click that \"Sign-in with Google\" or \"Sign-in with Facebook\" button on a website. \n",
    "\n",
    "### SSH and SSH Keys\n",
    "\n",
    "## Virtualization and Management\n",
    "\n",
    "### Docker\n",
    "\n",
    "### Kubernetes\n",
    "\n",
    "\n"
   ]
  },
  {
   "cell_type": "code",
   "execution_count": null,
   "metadata": {},
   "outputs": [],
   "source": []
  }
 ],
 "metadata": {
  "kernelspec": {
   "display_name": "Python 3",
   "language": "python",
   "name": "python3"
  },
  "language_info": {
   "codemirror_mode": {
    "name": "ipython",
    "version": 3
   },
   "file_extension": ".py",
   "mimetype": "text/x-python",
   "name": "python",
   "nbconvert_exporter": "python",
   "pygments_lexer": "ipython3",
   "version": "3.7.8"
  }
 },
 "nbformat": 4,
 "nbformat_minor": 4
}
